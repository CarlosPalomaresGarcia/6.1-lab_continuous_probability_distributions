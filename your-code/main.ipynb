{
 "cells": [
  {
   "attachments": {},
   "cell_type": "markdown",
   "metadata": {
    "toc": true
   },
   "source": [
    "<h1>Table of Contents<span class=\"tocSkip\"></span></h1>\n",
    "<div class=\"toc\"><ul class=\"toc-item\"><li><span><a href=\"#Before-your-start:\" data-toc-modified-id=\"Before-your-start:-1\"><span class=\"toc-item-num\">1&nbsp;&nbsp;</span>Before your start:</a></span><ul class=\"toc-item\"><li><span><a href=\"#Uniform-Distribution\" data-toc-modified-id=\"Uniform-Distribution-1.1\"><span class=\"toc-item-num\">1.1&nbsp;&nbsp;</span>Uniform Distribution</a></span></li><li><span><a href=\"#Normal-Distribution\" data-toc-modified-id=\"Normal-Distribution-1.2\"><span class=\"toc-item-num\">1.2&nbsp;&nbsp;</span>Normal Distribution</a></span></li><li><span><a href=\"#Normal-Distribution-of-Real-Data\" data-toc-modified-id=\"Normal-Distribution-of-Real-Data-1.3\"><span class=\"toc-item-num\">1.3&nbsp;&nbsp;</span>Normal Distribution of Real Data</a></span></li><li><span><a href=\"#Exponential-Distribution\" data-toc-modified-id=\"Exponential-Distribution-1.4\"><span class=\"toc-item-num\">1.4&nbsp;&nbsp;</span>Exponential Distribution</a></span></li><li><span><a href=\"#Exponential-Distribution-of-Real-Data\" data-toc-modified-id=\"Exponential-Distribution-of-Real-Data-1.5\"><span class=\"toc-item-num\">1.5&nbsp;&nbsp;</span>Exponential Distribution of Real Data</a></span></li></ul></li></ul></div>"
   ]
  },
  {
   "attachments": {},
   "cell_type": "markdown",
   "metadata": {},
   "source": [
    "# Before your start:\n",
    "\n",
    "    Read the README.md file\n",
    "    Comment as much as you can and use the resources (README.md file)\n",
    "    Happy learning!"
   ]
  },
  {
   "attachments": {},
   "cell_type": "markdown",
   "metadata": {},
   "source": [
    "In this exercise, we  will generate random numbers from the continuous disributions we learned in the lesson. There are two ways to generate random numbers:\n",
    "\n",
    "1. Using the numpy library \n",
    "1. using the Scipy library \n",
    "\n",
    "Use either or both of the lbraries in this exercise."
   ]
  },
  {
   "attachments": {},
   "cell_type": "markdown",
   "metadata": {},
   "source": [
    "## Uniform Distribution\n",
    "\n",
    "To generate uniform random numbers between any two given values using scipy, we can either use the following code or the code that we have\n",
    "discussed in class:"
   ]
  },
  {
   "cell_type": "code",
   "execution_count": 2,
   "metadata": {},
   "outputs": [],
   "source": [
    "import numpy as np\n",
    "import pylab as plt\n",
    "import seaborn as sns\n",
    "from scipy.stats import uniform"
   ]
  },
  {
   "cell_type": "code",
   "execution_count": 3,
   "metadata": {},
   "outputs": [
    {
     "name": "stdout",
     "output_type": "stream",
     "text": [
      "[2.91576202 2.52940926 2.21068211 2.54753302 2.10434161 2.44282978\n",
      " 2.73524059 2.51777821 2.01440115 2.67070404]\n"
     ]
    }
   ],
   "source": [
    "x = uniform.rvs(size=10)\n",
    "a = 2\n",
    "b = 3\n",
    "randoms  = a + (b-a)*x\n",
    "print(randoms)"
   ]
  },
  {
   "attachments": {},
   "cell_type": "markdown",
   "metadata": {},
   "source": [
    "**Your task:**\n",
    "\n",
    "1. Based on the code above, write a function that generates uniformly distributed random numbers. There are several requirements for your function:\n",
    "    * It should accept 3 parameters: \n",
    "        * `bottom` - the lower boundary of the generated numbers\n",
    "        * `ceiling` - the upper boundary of the generated numbers\n",
    "        * `count` - how many numbers to generate\n",
    "    * It should return an array of uniformly distributed random numbers\n",
    "\n",
    "1. Call your function with 2 sets of params below:\n",
    "    * bottom=10, ceiling=15, count=100\n",
    "    * bottom=10, ceiling=60, count=1,000\n",
    "\n",
    "1. Plot the uniform distributions generated above using histograms, where x axis is the value and y axis is the count. Let the histogram's number of bins be 10.\n",
    "\n",
    "Your output should look like below:\n",
    "\n",
    "![uniform distribution](ud.png)"
   ]
  },
  {
   "cell_type": "code",
   "execution_count": 36,
   "metadata": {},
   "outputs": [],
   "source": [
    "def uniform_random_numb_gen(bottom, ceiling, count):\n",
    "\n",
    "    valores_aleatorios = uniform.rvs(size = count)  # rvs para crear valores random uniformemente distribuidos. Crea valores entre [0 y 1)\n",
    "    # Hay que ajustar los numero a los limites que metamos en la funcion con bottom y ceiling.\n",
    "    randoms = bottom + (ceiling - bottom) * valores_aleatorios\n",
    "    return randoms.astype(int) # Me salian floats y lo he cambiado para que me salgan integers\n"
   ]
  },
  {
   "cell_type": "code",
   "execution_count": 37,
   "metadata": {},
   "outputs": [
    {
     "data": {
      "text/plain": [
       "array([12, 14, 13, 12, 11, 11, 10, 14, 11, 10, 11, 12, 12, 13, 10, 12, 11,\n",
       "       11, 11, 10, 12, 12, 13, 13, 10, 14, 13, 14, 14, 11, 11, 10, 11, 14,\n",
       "       14, 13, 10, 11, 14, 10, 12, 11, 11, 10, 12, 14, 13, 14, 11, 14, 12,\n",
       "       14, 12, 11, 10, 10, 12, 12, 13, 14, 13, 12, 10, 10, 14, 14, 10, 11,\n",
       "       13, 11, 12, 13, 11, 10, 12, 10, 12, 10, 12, 14, 12, 14, 14, 11, 12,\n",
       "       14, 10, 14, 14, 10, 12, 10, 10, 12, 12, 10, 12, 12, 11, 10])"
      ]
     },
     "execution_count": 37,
     "metadata": {},
     "output_type": "execute_result"
    }
   ],
   "source": [
    "set1 = uniform_random_numb_gen(10, 15, 100)\n",
    "set1"
   ]
  },
  {
   "cell_type": "code",
   "execution_count": 39,
   "metadata": {},
   "outputs": [
    {
     "data": {
      "text/plain": [
       "array([19, 25, 36, 42, 52, 39, 23, 17, 43, 58, 35, 46, 39, 39, 53, 37, 43,\n",
       "       39, 42, 53, 42, 12, 56, 11, 38, 48, 28, 54, 13, 23, 48, 52, 30, 21,\n",
       "       20, 10, 47, 34, 54, 13, 33, 21, 19, 33, 41, 54, 38, 32, 17, 16, 59,\n",
       "       45, 15, 38, 12, 27, 13, 55, 38, 28, 38, 31, 56, 16, 17, 57, 16, 56,\n",
       "       13, 41, 22, 33, 29, 29, 27, 27, 16, 38, 46, 31, 46, 59, 44, 29, 45,\n",
       "       26, 34, 33, 31, 57, 46, 24, 12, 19, 26, 20, 51, 41, 59, 50, 43, 16,\n",
       "       48, 41, 24, 29, 17, 35, 21, 37, 40, 41, 12, 58, 10, 33, 29, 47, 56,\n",
       "       46, 24, 13, 17, 56, 40, 59, 16, 13, 57, 46, 47, 26, 35, 35, 37, 39,\n",
       "       16, 49, 40, 34, 21, 45, 16, 48, 39, 57, 29, 52, 26, 14, 44, 35, 40,\n",
       "       22, 20, 18, 11, 44, 36, 31, 41, 15, 39, 45, 27, 44, 46, 56, 19, 55,\n",
       "       32, 25, 25, 49, 14, 13, 35, 33, 38, 36, 16, 43, 55, 19, 20, 26, 54,\n",
       "       11, 56, 26, 26, 14, 56, 10, 45, 30, 58, 11, 14, 38, 10, 44, 56, 52,\n",
       "       38, 32, 36, 19, 24, 46, 43, 50, 18, 51, 42, 52, 13, 32, 10, 53, 48,\n",
       "       21, 18, 28, 25, 59, 41, 29, 56, 44, 37, 50, 48, 36, 56, 28, 18, 52,\n",
       "       11, 17, 14, 14, 36, 18, 57, 49, 43, 40, 20, 15, 31, 50, 20, 25, 15,\n",
       "       39, 40, 51, 35, 33, 49, 47, 16, 32, 28, 46, 26, 12, 43, 32, 39, 54,\n",
       "       20, 17, 27, 44, 10, 12, 46, 25, 29, 16, 50, 51, 25, 54, 31, 41, 49,\n",
       "       26, 33, 28, 36, 13, 31, 15, 59, 52, 15, 27, 22, 55, 36, 47, 45, 21,\n",
       "       51, 10, 47, 26, 53, 59, 33, 52, 12, 17, 25, 51, 22, 17, 27, 46, 41,\n",
       "       50, 52, 14, 25, 32, 13, 30, 30, 56, 49, 28, 16, 43, 52, 44, 37, 30,\n",
       "       28, 41, 19, 15, 50, 47, 26, 36, 12, 55, 21, 30, 11, 43, 43, 38, 16,\n",
       "       32, 19, 51, 13, 50, 11, 46, 50, 50, 17, 38, 34, 11, 38, 14, 42, 58,\n",
       "       47, 37, 14, 27, 35, 14, 59, 14, 44, 51, 27, 12, 57, 47, 37, 17, 16,\n",
       "       45, 39, 27, 31, 42, 56, 31, 25, 54, 26, 34, 24, 12, 41, 30, 28, 29,\n",
       "       52, 44, 48, 44, 22, 45, 22, 32, 33, 30, 37, 52, 43, 38, 17, 36, 56,\n",
       "       48, 13, 40, 15, 40, 57, 18, 16, 50, 47, 40, 39, 33, 29, 35, 50, 31,\n",
       "       17, 24, 20, 27, 15, 38, 13, 28, 49, 37, 49, 33, 30, 39, 15, 43, 26,\n",
       "       29, 17, 19, 56, 27, 14, 21, 17, 12, 57, 12, 34, 25, 50, 19, 19, 22,\n",
       "       35, 12, 41, 34, 39, 54, 32, 24, 15, 22, 14, 17, 15, 50, 13, 42, 17,\n",
       "       47, 25, 31, 13, 43, 51, 35, 39, 34, 32, 30, 14, 44, 29, 26, 47, 58,\n",
       "       43, 59, 22, 42, 30, 56, 38, 59, 28, 33, 16, 53, 34, 20, 58, 40, 45,\n",
       "       37, 55, 26, 11, 47, 57, 49, 14, 38, 24, 48, 37, 54, 17, 12, 23, 47,\n",
       "       31, 52, 18, 48, 36, 10, 35, 24, 24, 34, 17, 13, 19, 43, 22, 33, 29,\n",
       "       12, 21, 18, 14, 33, 49, 38, 29, 50, 10, 35, 27, 34, 16, 49, 13, 53,\n",
       "       26, 39, 44, 19, 14, 58, 27, 58, 44, 51, 36, 56, 57, 58, 28, 50, 26,\n",
       "       41, 35, 50, 27, 27, 29, 25, 27, 42, 37, 29, 53, 57, 55, 12, 12, 41,\n",
       "       24, 56, 23, 12, 48, 54, 53, 33, 20, 48, 18, 52, 53, 57, 32, 25, 57,\n",
       "       33, 25, 21, 21, 12, 59, 20, 12, 13, 36, 38, 46, 39, 38, 33, 54, 28,\n",
       "       57, 57, 57, 54, 31, 39, 48, 23, 47, 23, 46, 31, 11, 43, 19, 18, 58,\n",
       "       41, 12, 38, 48, 14, 31, 58, 20, 25, 23, 47, 13, 16, 31, 32, 40, 33,\n",
       "       54, 11, 57, 30, 51, 27, 28, 39, 20, 30, 56, 44, 39, 31, 15, 42, 54,\n",
       "       22, 34, 49, 49, 55, 10, 12, 40, 29, 48, 28, 42, 10, 42, 16, 24, 53,\n",
       "       14, 18, 45, 23, 47, 48, 29, 48, 14, 21, 40, 38, 19, 29, 34, 39, 16,\n",
       "       51, 43, 52, 20, 50, 26, 25, 16, 26, 56, 47, 51, 53, 35, 52, 26, 52,\n",
       "       36, 22, 41, 22, 52, 27, 28, 17, 47, 23, 35, 18, 45, 38, 53, 36, 19,\n",
       "       35, 18, 36, 12, 42, 47, 28, 47, 16, 55, 34, 57, 10, 18, 42, 14, 22,\n",
       "       33, 21, 34, 16, 47, 12, 42, 52, 26, 31, 14, 30, 42, 49, 16, 15, 57,\n",
       "       12, 10, 56, 50, 12, 32, 14, 43, 29, 32, 53, 38, 11, 23, 47, 37, 15,\n",
       "       29, 32, 54, 13, 10, 12, 38, 33, 23, 22, 12, 55, 49, 57, 51, 50, 19,\n",
       "       40, 29, 38, 56, 32, 45, 11, 36, 39, 19, 36, 56, 44, 44, 38, 41, 49,\n",
       "       34, 12, 59, 22, 12, 18, 31, 20, 42, 56, 40, 56, 45, 39, 10, 45, 40,\n",
       "       12, 20, 15, 39, 24, 55, 41, 36, 52, 53, 57, 54, 50, 12, 45, 12, 25,\n",
       "       52, 21, 53, 14, 11, 16, 33, 57, 44, 28, 16, 29, 53, 22, 14, 26, 44,\n",
       "       18, 22, 58, 23, 24, 12, 48, 43, 49, 12, 42, 49, 32, 37, 44, 22, 33,\n",
       "       29, 45, 16, 31, 58, 22, 55, 44, 19, 22, 36, 19, 29, 13, 19, 49, 54,\n",
       "       59, 24, 51, 53, 57, 48, 57, 12, 46, 58, 51, 14, 26, 59, 18, 34, 31,\n",
       "       56, 53, 18, 43, 26, 14, 30, 49, 59, 10, 38, 56, 31, 54, 46, 41, 47,\n",
       "       36, 16, 51, 19, 33, 39, 29, 37, 54, 58, 59, 19, 43, 34, 21, 55, 42,\n",
       "       28, 59, 33, 27, 26, 49, 45, 15, 56, 56, 59, 44, 12, 35])"
      ]
     },
     "execution_count": 39,
     "metadata": {},
     "output_type": "execute_result"
    }
   ],
   "source": [
    "set2 = uniform_random_numb_gen(10, 60, 1000)\n",
    "set2"
   ]
  },
  {
   "cell_type": "code",
   "execution_count": 46,
   "metadata": {},
   "outputs": [
    {
     "data": {
      "image/png": "[encoded data removed]",
      "text/plain": [
       "<Figure size 640x480 with 1 Axes>"
      ]
     },
     "metadata": {},
     "output_type": "display_data"
    }
   ],
   "source": [
    "plt.hist(set1, bins=5)\n",
    "plt.xlim(10, 15)\n",
    "plt.show()"
   ]
  },
  {
   "cell_type": "code",
   "execution_count": 45,
   "metadata": {},
   "outputs": [
    {
     "data": {
      "image/png": "[encoded data removed]",
      "text/plain": [
       "<Figure size 640x480 with 1 Axes>"
      ]
     },
     "metadata": {},
     "output_type": "display_data"
    }
   ],
   "source": [
    "plt.hist(set2, bins=10)\n",
    "plt.xlim(10, 60)\n",
    "plt.show()"
   ]
  },
  {
   "attachments": {},
   "cell_type": "markdown",
   "metadata": {},
   "source": [
    "How are the two distributions different?"
   ]
  },
  {
   "cell_type": "code",
   "execution_count": null,
   "metadata": {},
   "outputs": [],
   "source": [
    "# A medida que la muestra es mayor, el dibujo tiende a ser mas plano (Mas nomrmal)."
   ]
  },
  {
   "attachments": {},
   "cell_type": "markdown",
   "metadata": {},
   "source": [
    "## Normal Distribution\n",
    "\n",
    "1. In the same way in the Uniform Distribution challenge, write a function that generates normally distributed random numbers.\n",
    "1. Generate 1,000 normally distributed numbers with the average of 10 and standard deviation of 1\n",
    "1. Generate 1,000 normally distributed numbers with the average of 10 and standard deviation of 50\n",
    "2. Plot the distributions of the data generated.\n",
    "\n",
    "Expected output:\n",
    "\n",
    "![normal distribution](nd.png)"
   ]
  },
  {
   "cell_type": "code",
   "execution_count": 61,
   "metadata": {},
   "outputs": [],
   "source": [
    "from scipy.stats import norm"
   ]
  },
  {
   "cell_type": "code",
   "execution_count": 102,
   "metadata": {},
   "outputs": [],
   "source": [
    "def uniform_random_numb_gen2(mean, std_dev, count):\n",
    "\n",
    "    random_numbers = norm.rvs(loc=mean, scale=std_dev, size=count)\n",
    "    return random_numbers"
   ]
  },
  {
   "cell_type": "code",
   "execution_count": 103,
   "metadata": {},
   "outputs": [
    {
     "data": {
      "text/plain": [
       "array([ 9.85964659, 10.43525364, 10.39775245,  9.89785322,  9.98927054,\n",
       "        9.48916128,  9.81690334,  8.19663358, 11.06076287,  8.65535957,\n",
       "        8.60725412,  9.28512281,  9.67913841,  8.96076482,  9.17827152,\n",
       "       10.40411756, 10.73919618,  8.5782478 , 10.13209679,  8.60429679,\n",
       "       10.85405583,  8.69319428,  9.26340403,  9.99479533, 10.47220016,\n",
       "       10.22946905,  9.34048581,  9.37838947,  8.86456199,  9.06721283,\n",
       "       10.12302963,  9.36033911, 11.7418453 , 11.22800095, 10.06831228,\n",
       "       10.91056764,  9.4132742 ,  8.09191413,  7.81461734,  7.65518946,\n",
       "        8.82249967, 10.06797195, 11.81031204, 10.67500723,  8.35218849,\n",
       "        7.84928578,  9.0888904 ,  9.94720206,  8.71636593,  9.53053963,\n",
       "       10.17530351,  9.5945885 ,  9.95851799,  9.28599106,  8.99090426,\n",
       "        9.29335073,  9.99998378, 10.88708561,  9.41154463,  8.8223409 ,\n",
       "        8.27152351, 10.51933852, 10.34485853, 10.1683295 ,  9.52641683,\n",
       "        9.91341942,  9.9588229 , 10.73068747, 10.9160716 , 10.45080443,\n",
       "       11.32691969,  9.29872694,  9.19690022, 11.8503908 , 10.65338339,\n",
       "       10.97846716,  9.81513268, 12.02466559,  8.41060602, 10.46130776,\n",
       "        9.66622793, 10.92208423,  9.27925807,  9.35383095,  9.24822358,\n",
       "       12.22031192, 11.1054107 , 10.90825144,  8.9843832 , 10.50632176,\n",
       "       10.47053324,  8.75871261, 10.07404849,  9.06705971, 10.26218809,\n",
       "       10.80310005, 12.14406373, 10.38024349, 10.00813767,  9.00465605,\n",
       "       11.48854893, 10.20516845, 10.4195865 , 10.64281806,  9.60248332,\n",
       "       11.16936042, 10.42596451,  9.72441466,  9.86684572,  9.56888617,\n",
       "        9.93789689, 11.53349155,  8.62243484,  8.53626045,  9.61432157,\n",
       "        9.42509339, 10.36450165, 10.94896504,  9.94711997,  9.34068351,\n",
       "        9.77319673, 10.96450669, 10.32719602, 11.06656747, 10.85273006,\n",
       "        9.36807428,  9.3548724 ,  9.73962359,  9.77971537, 10.47386579,\n",
       "       11.18347246,  9.74817831,  9.97893964,  9.27681722, 11.41306708,\n",
       "        8.86497127, 11.28092397, 10.14888191,  8.54800534, 11.42079723,\n",
       "        9.12409985,  9.19737411, 10.57222152,  8.08960786, 11.41905637,\n",
       "       10.46915034,  8.63592046,  9.98541477,  9.52006598,  9.87924078,\n",
       "       10.95997262, 10.59729959,  9.22115036,  9.23383232,  8.55050266,\n",
       "       10.84584106,  9.41893675, 10.34324792, 10.52071202,  8.48753784,\n",
       "       10.54545105,  9.95535973,  9.88397072,  9.02252489, 11.26999039,\n",
       "       10.68233314, 10.50933179,  8.72178967,  9.72589977, 10.16454654,\n",
       "        9.03841206,  8.60938864,  9.59943419, 10.10788279,  9.2034762 ,\n",
       "       10.81371377,  9.40002774, 10.05845709, 10.78563397, 10.79041772,\n",
       "        9.36487632,  9.41288537, 10.08000674,  8.70708961,  9.7903861 ,\n",
       "       11.39618016,  9.74958216, 10.65747015,  9.25234659, 10.53552726,\n",
       "       11.60691431,  9.90888928,  9.15258658, 10.19353736, 11.23558137,\n",
       "        9.76039591,  9.04569804, 10.78740346, 10.02827388, 10.50806673,\n",
       "       10.91806914, 10.197223  , 10.81845425,  7.7534121 , 10.62953686,\n",
       "       10.42249029,  8.8813219 , 10.88641129,  9.41903298,  8.04710931,\n",
       "        9.48446313,  9.33250417, 10.78514164, 10.57459922,  9.20426349,\n",
       "        9.45588086,  7.84495278,  8.64818264, 10.9889841 ,  9.75051104,\n",
       "        7.84915605, 12.29548027,  9.56108424,  9.0115969 , 10.6907968 ,\n",
       "       10.04893194, 11.16496684, 10.77526521, 10.01593329, 10.80809595,\n",
       "       10.35922168, 11.06905823, 10.94145569,  9.34022451, 11.01097858,\n",
       "        8.38243889,  9.684931  ,  9.96699953,  8.92891296, 10.2953469 ,\n",
       "       11.66816204, 11.33408417, 10.49935228,  9.64786334,  9.77681713,\n",
       "        8.88398913, 10.37486643, 11.13422756, 11.03795695,  9.73937874,\n",
       "       10.01336812,  9.13035952, 12.14026859, 11.18982568,  9.78220791,\n",
       "       10.15999142,  8.61900649, 10.13245733,  8.55333159, 11.12760203,\n",
       "       11.80604733,  8.93922825, 10.87799261, 10.7424132 , 10.0387491 ,\n",
       "        9.88820836, 11.34402727, 10.11658551,  9.538282  , 10.65237562,\n",
       "       10.88508967,  8.73944372,  9.99388636,  9.30060801, 11.20612286,\n",
       "       10.66871854, 10.09397636,  9.86777048,  9.35955309,  9.29248834,\n",
       "        9.52261555,  8.9999424 ,  8.25827736, 10.52888164,  9.51991063,\n",
       "        9.07862526, 10.28190023, 10.3050238 ,  9.98098755,  8.6539464 ,\n",
       "        9.55889567, 10.96069433, 10.11741069,  9.78534693, 10.36339569,\n",
       "        8.81540899, 11.93026478, 10.07016025,  9.00108639,  9.15187126,\n",
       "        9.16517831,  9.90099221,  9.27033256, 10.5531714 , 10.63045154,\n",
       "        7.91515553, 10.69350684,  9.13806438,  9.98162829, 10.68381505,\n",
       "        9.20420496,  9.61240046, 11.49996741,  9.26815066,  9.57528718,\n",
       "        8.72163416,  9.93556497, 10.03879562, 10.51989012,  9.52410308,\n",
       "        9.20694275,  9.63696789, 11.4014268 ,  8.84585534,  9.07464338,\n",
       "        9.11105364, 10.77729849,  8.92932549,  8.63358082,  9.58938961,\n",
       "       10.44083427, 10.43686581, 11.64581856, 11.01113617, 10.93384432,\n",
       "        8.92569101,  9.28802026,  9.27021033, 11.55317029, 10.08768144,\n",
       "        6.76883514,  9.39136875,  9.88643873, 10.30425882,  9.23007651,\n",
       "       10.5062214 , 10.05916856, 11.9228204 , 10.79325967,  9.11787775,\n",
       "        9.58138862, 10.53195926,  9.92287424, 10.93930366, 10.47926035,\n",
       "        9.616826  ,  9.63111267,  9.79109641,  9.88455652, 10.67235656,\n",
       "       10.20906569,  9.61969688,  9.95489928, 11.17177894,  9.07546637,\n",
       "       10.52928024, 10.92669998,  9.20430009, 11.0201403 ,  9.9318761 ,\n",
       "        9.09354805, 10.55404937,  9.39051328,  8.82364255,  9.49315036,\n",
       "        9.37259025, 10.13855029, 10.30597585, 11.08782923,  8.87652289,\n",
       "        8.83905814,  9.69607642,  9.67397519, 10.59801791, 10.66055527,\n",
       "        9.71131216,  8.62437777, 10.92102674,  9.81952019,  9.24956717,\n",
       "        9.49951899,  8.98183613, 10.28178625, 12.17649255,  8.99875529,\n",
       "       12.6592376 ,  9.76570463,  9.06886095, 10.92343428,  9.02413167,\n",
       "       10.68324664, 12.43284351,  9.87238676, 10.64859627, 10.6170432 ,\n",
       "       10.27619284,  9.64628558, 11.69498546,  9.93186341,  9.65321806,\n",
       "        9.5261456 , 10.18489214, 10.28555596, 10.80065869, 10.64937037,\n",
       "       10.84896876, 11.71699179,  8.33462909,  9.18240229, 10.02300469,\n",
       "        9.01864515, 11.82355612,  9.06226341, 11.25676674,  9.41791795,\n",
       "       10.34256603, 10.29878402,  7.84365169, 10.28423557,  7.97346717,\n",
       "        9.75777761,  9.09053968,  9.9412722 ,  9.61170268,  9.0300543 ,\n",
       "        8.19661333,  9.68544435,  9.22806578,  9.28171382,  9.06783515,\n",
       "        9.60231338, 10.16900441,  9.07974552,  9.39030728,  9.89931476,\n",
       "       10.9909233 ,  9.43912146, 10.91611628,  9.11169772, 10.51679182,\n",
       "        8.73076851, 10.04947558,  9.23959194,  8.93078367, 10.05054517,\n",
       "       10.2387192 , 10.99624632, 11.21343815, 10.33553322, 10.12621384,\n",
       "       10.26641397,  9.18819743, 10.45946831, 10.28644827,  8.10140972,\n",
       "        8.40774582, 10.24889807, 10.58847161, 10.28070214, 12.13154794,\n",
       "        9.45841195,  9.73177985, 11.08216379, 10.80901325,  9.583473  ,\n",
       "       11.33112773,  6.89244141,  9.82858863,  9.30096616, 11.09906188,\n",
       "        8.96943394, 10.65879472,  9.44044867,  8.99309555,  9.44180845,\n",
       "        9.79483706, 11.06698847,  8.99193049,  9.38014065,  9.0029401 ,\n",
       "        8.59799443,  9.39916327, 10.00667426,  9.47473203, 11.26097863,\n",
       "        9.39020652, 10.72648601, 10.45891086,  8.74819216,  9.07449984,\n",
       "       11.75421151, 11.15436739,  9.52256435, 10.15248466,  9.57006196,\n",
       "       10.43648032,  9.41659628,  9.56693629, 11.64426808,  8.50461019,\n",
       "        8.11120066,  8.50174685, 10.44613273,  8.70850772, 10.84678844,\n",
       "       10.37114608,  8.60938137,  7.86182409, 10.07165686, 10.25080316,\n",
       "        8.99181863, 10.46563918,  9.78750377, 11.42083586, 10.2945727 ,\n",
       "       11.2157356 , 10.40099286,  9.75224496, 10.09632875,  8.48278634,\n",
       "        9.45335693,  9.34898282,  8.93373487, 11.78371953,  8.53065179,\n",
       "        9.87602909,  9.10182805, 11.0441743 ,  9.78909988,  9.98066246,\n",
       "        7.98758276,  9.17854319, 12.31822346, 10.79797863, 11.68859128,\n",
       "        9.56260724,  9.69851527, 10.49133439, 10.76144695, 11.19198106,\n",
       "       12.29894498,  7.7523984 ,  8.12992477, 10.49320682,  9.75060391,\n",
       "       10.40962106,  9.17959567, 10.86763998,  9.78113621,  9.54813805,\n",
       "        8.17748533, 11.283566  , 10.11496369,  9.51870556,  8.00366292,\n",
       "        9.27497333, 11.00831159, 11.55975317,  9.738523  , 11.57977669,\n",
       "       11.102221  ,  8.44543134,  9.09593234, 11.36673455,  8.7588851 ,\n",
       "       10.42634431, 10.32882706, 10.58312793, 11.4885523 , 12.03765236,\n",
       "        9.9807432 ,  9.15259855,  8.29515182,  8.33387568, 10.75246905,\n",
       "        9.90461974, 11.67181942, 10.99446489, 11.24711737,  9.47790375,\n",
       "        9.33291288, 10.79368491, 10.42919185, 11.20318398, 10.97391963,\n",
       "       10.06221148,  9.59480793, 10.29821165,  9.78856219,  9.63237454,\n",
       "       11.42040485,  9.9723676 ,  9.7877177 ,  8.34232449,  8.32801014,\n",
       "       11.01504823,  9.05411663, 12.52409606, 10.92647812, 10.96124597,\n",
       "       11.19136909, 11.30827072,  9.37524288,  9.15665117,  9.9970763 ,\n",
       "       10.02801647, 10.21321758,  9.59057083, 11.09888186,  9.57564837,\n",
       "       10.72747245, 10.4811978 ,  9.49262558, 10.42916272, 10.3135708 ,\n",
       "       10.43464724, 11.28915945, 10.53779863,  9.54266185,  9.78757757,\n",
       "       11.47807107, 10.53578417,  9.34153438,  9.48234933,  8.17689459,\n",
       "        8.91388746,  8.69141833,  9.57382943,  8.90404555, 10.47540764,\n",
       "       12.81697761, 10.05825179, 11.13079933,  7.91127469,  9.5593546 ,\n",
       "       10.09844185, 10.82624113,  9.74811459,  9.18899166, 10.82156196,\n",
       "        9.84263243, 10.63576253,  8.68798192, 10.36100475,  9.2019386 ,\n",
       "        8.88438558,  9.77070226, 10.16236699, 10.68972654, 10.35234862,\n",
       "        9.0231959 ,  9.78599169,  8.53764072,  9.46372706,  9.38407043,\n",
       "        9.69465977, 12.02522457,  9.40408715,  9.54923206,  9.4898421 ,\n",
       "        8.90501421, 10.23902737,  9.34531096,  9.0017018 ,  9.35200519,\n",
       "       10.25521254, 11.21551899, 10.37686691, 10.82351195, 10.23398951,\n",
       "       10.25621911,  9.50568573,  9.55078858,  9.842744  , 11.6120067 ,\n",
       "        9.40120799,  9.40092881,  9.13066094, 10.10323248, 10.38732769,\n",
       "        9.37649892, 10.13311211, 11.35947135, 10.19027429, 10.27910777,\n",
       "        8.17465324,  9.96391229,  9.85689321, 10.18112541,  9.79114933,\n",
       "        8.89527863,  9.14184654,  9.09200993,  8.61430514, 10.16352693,\n",
       "        8.47365477, 10.72592781,  9.96501593, 11.14199897, 11.84972724,\n",
       "       10.91577879, 10.86551402, 10.41515008,  9.55775619,  8.18141757,\n",
       "        9.64255289,  9.76253427,  9.19079163,  9.41129472,  9.47690202,\n",
       "        9.3903634 , 12.04211107, 10.59372849, 10.37603221,  8.43409332,\n",
       "        9.8010092 ,  9.55335336, 10.67671904,  9.10955466, 11.72271271,\n",
       "        9.1563004 ,  9.47696562, 11.30944142,  9.48136556,  9.10233851,\n",
       "       10.19145755, 10.0146354 ,  8.75062281,  8.85706006, 10.37777799,\n",
       "       10.22252441,  9.92065367,  9.72819661, 10.74762534, 11.92821963,\n",
       "        9.7578995 , 10.01262109, 11.22761052,  8.25648791, 12.79859432,\n",
       "       12.20163241, 10.73220695,  8.94143161, 10.68315951, 10.22982199,\n",
       "       11.50680513, 10.68471206,  9.76685315, 10.51167216,  9.96210302,\n",
       "       10.89142476, 11.32038761,  9.6395769 , 10.78335127, 11.10262383,\n",
       "        8.08765505, 11.81378535,  9.97211377, 10.36414874, 10.28202269,\n",
       "       10.51414723,  9.34415446,  9.18021178, 11.0140521 , 10.23260302,\n",
       "        9.68239143,  8.80632692,  9.96367125, 10.23450542, 11.07187939,\n",
       "        9.9638    , 11.12217713,  9.51726948, 10.90458393, 10.24264526,\n",
       "       11.52132871,  9.45930037, 11.67686292, 10.0352395 ,  9.50142393,\n",
       "        9.88262283,  9.92882027,  9.98136498, 10.24257105,  9.78552514,\n",
       "       10.40858546,  9.51986383, 10.42778934,  9.83443744,  9.29187396,\n",
       "       11.01506041, 10.36920882, 10.83177709,  8.97301113,  8.88181282,\n",
       "       10.53869852,  7.99352759, 10.86512336, 10.43890367,  9.8871804 ,\n",
       "       10.2522413 , 11.26621142, 10.26547456,  9.09250687,  8.6931181 ,\n",
       "        9.72361286, 10.5209177 , 11.2260235 ,  7.96228372, 11.63845372,\n",
       "       11.87227818, 10.71008362,  9.17506368, 10.0124139 , 10.24620778,\n",
       "        9.14454931, 10.16205532, 10.3673842 , 10.1298809 , 11.48106598,\n",
       "        8.98347131,  9.45700216, 10.56980939, 11.30961272, 10.24781516,\n",
       "        9.63774286,  9.73151106,  9.81184764, 10.41153733,  8.53858572,\n",
       "       10.38383866, 10.76126839, 10.62339933, 10.84439755, 12.07117015,\n",
       "       11.87498701, 11.183339  , 10.30305681, 11.01995227,  9.8425275 ,\n",
       "       10.82345622, 10.65232298, 10.18151585, 12.58606364,  9.67075731,\n",
       "        9.16273742,  8.67489423,  9.9256466 , 11.28100345, 11.17245709,\n",
       "       10.88348179, 12.35805479, 10.1620043 , 10.29542984,  8.79750199,\n",
       "        9.11776748, 10.87798247, 11.18267518, 10.1332089 , 10.35616386,\n",
       "        9.65905244,  8.60684745,  9.02569407,  9.92931827,  8.88936441,\n",
       "       10.25579935,  9.66284565, 10.46325629,  8.94688416, 10.50461967,\n",
       "       10.9521127 , 10.87982257,  9.33199216,  8.98776339, 10.0038243 ,\n",
       "        8.97066446,  8.7834983 ,  9.56824576,  9.50994566,  9.02912157,\n",
       "       11.42432517, 10.0127807 , 11.9111338 ,  9.34403072,  9.11065936,\n",
       "       12.01082425, 11.00193346, 11.56131697, 12.53247365,  8.7140694 ,\n",
       "        8.72815253,  9.92950671, 10.9177534 , 11.77951443, 10.48951345,\n",
       "        8.93753969, 10.57085059, 10.21590802,  9.1182926 , 10.21008974,\n",
       "       10.83891866, 11.02882951,  9.91269896,  9.76687935, 12.67584024,\n",
       "       11.6379383 ,  9.76121574,  8.97446421,  7.04720713, 11.59608455,\n",
       "       10.68294553,  7.9895469 ,  9.37332068, 10.77619997, 10.77176872,\n",
       "       11.60570525,  9.84292459,  9.3328699 , 11.47803631, 10.40317818,\n",
       "       10.87605387,  9.44701392,  9.002777  ,  8.08603877,  9.41325487,\n",
       "       11.52440395, 10.31677209,  7.40889892, 10.58810059, 10.65343016,\n",
       "        9.29218958, 10.31947641,  8.61404274, 10.49993117,  9.37920143,\n",
       "        8.73043661, 11.68848618,  8.01538203,  9.19392745, 10.06510442,\n",
       "        9.01671582, 11.09840533,  9.10822076, 10.18121995, 10.36707545,\n",
       "        9.88751009,  9.27389987, 11.82647771,  8.20771036, 10.97135057,\n",
       "       10.38420905, 11.45557545, 11.09025365, 10.00108665,  9.66801085,\n",
       "        9.85717329, 12.68599958, 11.34098621, 11.70126945,  9.62939099,\n",
       "       10.05869108, 10.55397608,  8.69702893, 10.07974473, 11.37307294,\n",
       "       10.1175068 ,  8.80293113, 10.12408045, 10.6507218 , 10.60281783,\n",
       "        9.04351543, 10.72105159, 11.26522442, 11.19173592, 10.63121873,\n",
       "        9.0116697 ,  9.72993339, 11.29598822, 10.59540621, 10.47996219,\n",
       "        8.59704754,  9.23448875, 11.39681335, 10.04352578, 10.29573126,\n",
       "       10.6586013 ,  8.62282885, 11.55409684, 10.25478314, 11.09075405])"
      ]
     },
     "execution_count": 103,
     "metadata": {},
     "output_type": "execute_result"
    }
   ],
   "source": [
    "respuesta1 = uniform_random_numb_gen2(10, 1, 1000)\n",
    "respuesta1"
   ]
  },
  {
   "cell_type": "code",
   "execution_count": 104,
   "metadata": {},
   "outputs": [
    {
     "data": {
      "text/plain": [
       "array([ -22.1903271 ,   10.11072772,   46.55418211,  105.71769744,\n",
       "        -87.48424465,  -45.67492117,   32.56299369,  -44.02015597,\n",
       "        -20.46487537,   32.86786939,   -6.37215227,   46.821362  ,\n",
       "         10.29950487,  103.05607325,  -13.01369677,  -49.45186107,\n",
       "         49.89387492,   46.51549784,   79.07853877,   34.67799993,\n",
       "         41.32697947,   81.66527907,    6.84845849,  -51.88915102,\n",
       "         73.45798259,  -72.537639  ,  117.3910874 ,   74.04185549,\n",
       "        -39.44485678,   38.08588564,    1.40300766,   36.98594811,\n",
       "         -4.39198849,    4.04467664,   29.90079539,   -3.50250197,\n",
       "         31.80186005,   12.42798938,  -21.07471077,   88.52287076,\n",
       "        -10.45109469,  -25.13866272,   77.76286905,   23.30738378,\n",
       "         25.54104139,   32.34358652,    5.9549363 ,   46.81620994,\n",
       "         17.3247543 ,   -7.09035278,    7.07380337,  -13.56950972,\n",
       "        -89.00832926,   16.05217835,  -13.05524756,   -5.0009031 ,\n",
       "        142.36913255,   53.33588173,   82.06263074,   93.11006123,\n",
       "         47.61755637,  -68.66951163,   44.91006384,   29.41107347,\n",
       "         45.01727797,  -31.89965588,   13.61277162,  143.33729016,\n",
       "         -6.10197851,   98.6275662 ,   39.1963029 ,   43.61657977,\n",
       "        -22.20631359,   40.0233239 ,   26.13470314,   23.36082009,\n",
       "         -7.68239698,    6.95379432,   -1.74056409,  151.30690929,\n",
       "         50.21189091,  -14.1799559 ,  -55.40242905,    2.40541787,\n",
       "         18.95650553,  -16.00598756,  -57.44741865,  -37.34839657,\n",
       "         34.36009489,   89.50062406,   38.99525735,   84.46604021,\n",
       "         30.58157971,   42.91671126,   51.24441237,  -70.84194612,\n",
       "         10.90028626,  -41.87238975,  -44.17742916,   -7.30736072,\n",
       "        -67.73087888,  -75.59559805,  -26.06543977,   29.93653893,\n",
       "         85.50638831,   48.17086101,   48.13288445,   14.47095046,\n",
       "         -6.58664492,   16.30311884,   -6.23202742,   -6.8097509 ,\n",
       "         36.79611996,  -15.94706073, -143.19616942,  -63.10464828,\n",
       "         17.1011775 ,   45.2201035 ,   75.62843637,    6.85466138,\n",
       "         31.38479497,   33.21682886,    4.36151305,   -1.42054191,\n",
       "        -23.32706749,  -62.25493471,  117.63132681,   20.18514701,\n",
       "        -16.12062342,   33.36851446,  -56.28904103,   82.75372112,\n",
       "        -72.02712969,   27.57166854,    7.57691644,  -24.23227021,\n",
       "        112.89974767,  -61.69534946,  -33.78005813,   85.53869414,\n",
       "          9.32886747,   30.55606403,  -37.45765532,   11.68362049,\n",
       "        -62.88218855,    2.70010997,   20.00409776,  -99.77309026,\n",
       "        -25.26104751,  -16.27228926,   25.35423312,  -64.30859797,\n",
       "        -14.28886373,   43.16926517,  132.54071113,  -55.6639934 ,\n",
       "         10.94038697,   73.36965147,   18.56492818,   73.92699137,\n",
       "        -21.66708671,  -40.45336324,   70.02876243,  -47.5247744 ,\n",
       "         14.26739668,   18.29384718,  -86.75248446,  -31.69807024,\n",
       "        -22.35735001,  -19.11594952,  -19.74959426,   26.40453155,\n",
       "        -44.35110532,  -37.00983804,  -19.85916988,   83.54874243,\n",
       "        -39.65598404,   -8.63009999,   37.04557149,   82.52667831,\n",
       "        -59.76680279,   72.95187793,    6.23528875,   -8.71433542,\n",
       "         29.34817083,  -63.1065752 , -101.53124688,  -36.94140744,\n",
       "        -57.81509672,   15.66077704,    0.90055127,  -33.96447429,\n",
       "         35.67696319,  101.67925667,   26.94820816,   44.91384536,\n",
       "         24.66630781,  -76.02322772,   16.65224185,  -61.12085643,\n",
       "        -18.96296107,  -51.08155203,  -87.40212948,   24.17547145,\n",
       "          3.59772593,  -36.57363019,  -22.0250425 ,  -36.78141185,\n",
       "          8.0048487 ,   37.60803584,    5.66693818,  -41.95315251,\n",
       "        -29.74297915,  -56.49368417,   30.54740683,  -15.54248557,\n",
       "        -60.08376584,   53.36195753,   24.70295658,   34.45636975,\n",
       "        -50.64500258,  -16.2543916 ,   10.39099724,   62.22499061,\n",
       "          5.63216863,   20.39901578,  -64.6595696 ,  -62.73145921,\n",
       "        130.34389199,   46.76230212,   53.47610239,   -1.63702137,\n",
       "         78.36162619,  -45.35835775,  -15.01156335,  -11.01717495,\n",
       "        129.13927287,  -36.51464392,   79.08912081,  108.35689411,\n",
       "        -26.38064485,   48.81683022,   22.61647308,   53.42319428,\n",
       "         -1.341863  ,  -50.31385992,    3.51073627,   46.47890323,\n",
       "         -4.36624153,   25.85586717,   51.08810627,  -44.11427252,\n",
       "         -0.44548526,   58.81527209,    3.45721571,  -31.73841957,\n",
       "        -39.22888512,  123.98441927,  -89.68194949,  -15.22309551,\n",
       "         64.00642632,  -46.59433506,  -34.82130682,   42.34078794,\n",
       "       -102.41699661,   -5.75824785,   37.6278669 ,  -13.18128264,\n",
       "         30.74468457,    5.38168311,   -9.55400207,  -73.00885782,\n",
       "         19.05133647,   46.50782198,   59.57292112,  -17.4662142 ,\n",
       "          2.72369067,    1.23248949,  145.42223775,   82.21347225,\n",
       "        102.74334212,  -51.69752127,  -15.29668075,   13.40323611,\n",
       "        -11.795953  ,   31.86237158,   37.48905519,   57.48050878,\n",
       "        -21.75753825,   27.23816377,  -25.717901  ,   51.16801366,\n",
       "         48.44889137,  -20.71112325,  104.6718752 ,    9.41189331,\n",
       "         24.71146645,  -36.33496487, -108.17094003,   -4.75835656,\n",
       "         -6.43974027,    3.52523117,    2.34066713,   66.99593151,\n",
       "         59.92734202,    8.08645389,  109.10394997,  -43.65607505,\n",
       "         45.5466246 ,  -77.14976432,   26.36098302,   14.39764526,\n",
       "         52.73703724,    9.64711834,    6.66632093,   31.29590538,\n",
       "         41.89638457,  -22.79310244,   81.46205895,   16.79229169,\n",
       "        -38.20438915,   39.76897629,   -3.83282736,  -40.26957754,\n",
       "        -83.25341287,   63.17694096,   76.05172677,  -46.30313513,\n",
       "        -51.28609206,  -40.76308632,  -58.77090908,  -20.79660826,\n",
       "        -39.48410303,  -45.25562493,  -35.40404451,    5.73465919,\n",
       "        -40.15431558,   74.4031634 ,  -23.20074634,  -93.03450493,\n",
       "         -3.47300521,   43.60139473,  -51.17424501,   49.19356609,\n",
       "         23.60680377,   39.26213185,   -5.23639091,   -2.10136594,\n",
       "         23.00288385,   15.54082687,   56.38821291,  -62.73985856,\n",
       "         63.56408161,  -20.95342905,    1.57817963,   27.90733374,\n",
       "         60.55769867,  -53.84865513,   79.0618527 ,  -10.08126677,\n",
       "         39.90410885,  -41.32392563,  -11.13365315,   69.32421482,\n",
       "         15.56132154,    2.55856019,  117.31149813,   48.93701961,\n",
       "        -35.86154091,   33.87446901,  -78.57565921,  143.34034329,\n",
       "        -61.91371598,   25.19095315,   19.12412049,   30.18627445,\n",
       "         38.7269437 , -136.17978864,  -61.28503067,   22.47698961,\n",
       "         51.34484597,   11.73838008,  104.86200308,   -5.43609952,\n",
       "         39.46473231,  -21.41577112,   -3.10926996,  -46.29815329,\n",
       "         62.82558921,  -93.52302918,   49.33219497,  -44.29372326,\n",
       "         48.62464298,   -2.13051538,   14.92335088,  -24.63939683,\n",
       "         46.74368451, -102.38079192,   16.65903999,   54.81847034,\n",
       "         14.65573154,   78.49079166,   68.74263602,   74.87914689,\n",
       "        -41.71215279,  -23.20235942,   37.00070893,   14.43764866,\n",
       "        -42.02996949,   31.9672717 ,   66.45390149,  -46.9062415 ,\n",
       "       -129.43807259,    8.66522023,    4.07841061,   50.80178284,\n",
       "        -13.74179399, -150.55633848,   50.31524665,   84.05735364,\n",
       "          4.47741816,   -5.94333214,   -7.595425  , -104.48140438,\n",
       "         14.18753524,   17.97548684,   25.72210899,  -26.6207125 ,\n",
       "         95.18880431,   39.30469004,   43.87554075,   33.96731821,\n",
       "        -13.34132446,   86.45912559,   18.48357566,  110.43893229,\n",
       "         -8.28019643,   44.42954581,  -22.93993098,  -82.62481946,\n",
       "        -37.77003433,  -25.15883586,  139.31310421,   42.20122754,\n",
       "         14.85790846,  -35.22389797,   15.93708542, -117.48221205,\n",
       "         29.08783576,  -12.61176124,  -48.10876092,   73.24041228,\n",
       "        120.26819665,  -25.57301632,   31.25112244,   35.61382422,\n",
       "        -15.07948957,  -29.99787484,  -14.60091299,   70.34624436,\n",
       "        -40.18217469,   -9.58678372,   28.77892324,  -12.15506573,\n",
       "        -65.31112811,   75.34461321,   44.00614788,  -47.14021165,\n",
       "         55.01389584,  -19.56887729,  -41.03106378,   33.66302296,\n",
       "        142.85040118,   17.87763442,   26.07230739,  -33.43513033,\n",
       "        -22.09471313,   32.10962421,    5.48166338,   26.21267475,\n",
       "         86.80336154,   37.11610713,  -16.03236793,   22.86621878,\n",
       "        -88.90511001,  -10.04954316,  -22.00800133,   38.02628774,\n",
       "         11.98315006,   62.8713187 ,   -0.57656743,  -24.19138524,\n",
       "        -14.98440584,   45.41704516,  102.71857706,   63.24750415,\n",
       "         -0.9014809 ,   18.1318432 ,  114.1179137 ,   24.02619146,\n",
       "         53.26924236,   59.25846849,   -3.50838186,  -16.77679503,\n",
       "         81.69446536,   39.84987941,  125.0385944 ,   -9.56614807,\n",
       "       -129.02912903,   10.93952066,   -7.46171081,   67.40103494,\n",
       "         28.51031137,   77.28317365,   83.83559407, -113.90206122,\n",
       "         -5.7667698 ,  -41.12545954,   63.13725257,  116.3083988 ,\n",
       "         44.3699772 ,  -79.51662494,  -45.96009788,    8.48828466,\n",
       "         41.26309454,   74.0753283 ,   17.12000262,  -35.44376137,\n",
       "         -1.13308694,  -57.83694682,  -61.56516629,   -2.71434616,\n",
       "         -0.29300819,   14.19139906,   66.92906307,   51.30092683,\n",
       "          0.22184546,  -30.37153588,  -33.07015536,    0.76117761,\n",
       "        105.49599458,   19.90156332,  -28.29819259,   51.870615  ,\n",
       "         91.95674442,  -51.74104293,  -81.58994139,   -6.66071004,\n",
       "         36.6159397 ,   72.29124583,   -5.35877144,    1.28190882,\n",
       "        -33.11403376,  -61.84144859,  -31.81235417,    4.83450524,\n",
       "         48.9035142 ,   22.24123087,  -99.06273455,   54.75753269,\n",
       "         16.65619595,  -24.29126552,    9.44899085,   39.79073934,\n",
       "         62.41190641,   -0.18872919,   48.98206802,  -53.50354853,\n",
       "         26.97526879,   93.70647449,   42.23412154,    7.57504875,\n",
       "        128.49956813,   26.58308702,  -63.53766569,  -29.97275958,\n",
       "        -14.00843877,   -0.39039106,  -16.4350243 ,  -44.99640044,\n",
       "         15.31293768,  -32.21593162,   -9.958911  ,   13.17488784,\n",
       "        102.51662033,   41.52005301, -109.37367893,   68.65194491,\n",
       "         33.46845901,  -38.26751603,   81.38918507,   18.26156064,\n",
       "          4.076667  ,    5.87423537,  -17.80608486,   -3.45480603,\n",
       "        -19.15122692,  -13.13415879,   42.57130794, -116.37532825,\n",
       "         34.83237115,   10.5878189 ,   89.05980004,   60.43792433,\n",
       "         44.46517474,   29.0197993 ,   19.83815196,   34.39627195,\n",
       "         31.42598601,  -46.89756114,    2.80430192,  -46.06756028,\n",
       "        -21.621784  ,   30.53917352,   12.32567454,   59.10484815,\n",
       "        -25.47276431,   30.78027964,  -74.42018317,   -3.13237326,\n",
       "         12.11328106,   25.33737915,   48.38378926,  110.5271753 ,\n",
       "        -45.28541998,  -54.70572921,   93.38051143,   28.41550417,\n",
       "         32.99850456,   -2.17862887,  -29.82243553,   28.26579135,\n",
       "         93.37367035, -141.11345603,   94.09026132,  -27.76262717,\n",
       "        -93.74065576,   62.39566401,    5.79202735,  -19.53192441,\n",
       "        -87.03814579,   11.43086085,    8.16735309,   24.70206074,\n",
       "        -17.43548345,   27.87663927,   23.38433573,  100.24224605,\n",
       "        123.49044295,   32.17585327,   -6.86533571,   34.10136908,\n",
       "         69.19971762,   78.92485339,   15.18224955,  -21.09954316,\n",
       "         -6.92268226,  -12.33655485,  -20.59547563,   25.31361871,\n",
       "         41.92337211,  -80.93812133,   89.74140058,  -52.84456858,\n",
       "          5.99476366,  -12.05785524,   62.69038089,  -19.38357097,\n",
       "        -13.13358666,  -36.41893908,   -5.08445616,    1.53092445,\n",
       "          8.83910949,   -0.62194796,   -9.93270036,   51.58220248,\n",
       "         35.08350255,   33.88951708,   26.37388311,   69.48002009,\n",
       "         37.44268052,   -4.83134511,   66.28694437,    6.7911674 ,\n",
       "         85.90819411,   26.85519793,   30.90301316,  -40.74067961,\n",
       "         24.15428979,   70.48965491,   18.41903732,    2.43819303,\n",
       "         40.96806671,   24.99476467,   -0.95270917,   30.85879545,\n",
       "        -84.97734969,   35.03244753,   23.64510043,   80.50419913,\n",
       "         38.8694378 ,   98.437964  ,   23.71495988,   44.30995231,\n",
       "         96.75294823,  -24.37060868,   51.33989767,   24.12396853,\n",
       "        -64.53435078,   20.19457387,   47.10339186,  -38.51089148,\n",
       "         43.6491771 ,   13.33778753,   74.11325557,   -9.18662736,\n",
       "        -15.49872027,   65.14420741,  -47.77614381,  -18.35813409,\n",
       "          9.9791617 ,  -72.13681802,  -41.99719215,   30.58329357,\n",
       "        -65.66057853,  -10.98834763, -110.63035915,    7.2508721 ,\n",
       "         -2.4922486 ,   42.52567663,   33.95222732,   22.09114418,\n",
       "          7.12103777,   51.35052998,  -39.4468588 ,  -63.06412746,\n",
       "          7.1245178 ,  -18.13922464,  -26.00205728,   63.03408729,\n",
       "         52.44342257,    4.23164932,  -12.41141932,   16.62834626,\n",
       "         20.09921696,   75.17065449,  111.43375126,   -4.36769809,\n",
       "        -90.74966475,  -78.94118673,   79.80695489,  -21.90183992,\n",
       "         88.78824209,   -4.6246238 ,   50.56739642,  -21.61060925,\n",
       "         36.37135307,   17.99086909,   28.81659205,  -59.69929626,\n",
       "        -39.71187876,   69.87179091,  -56.07221368,   89.83271016,\n",
       "          4.84293494,   39.75261731,   17.37888906,  -23.47627443,\n",
       "         52.34726221,   34.39526852,  -14.14600064,   74.84835935,\n",
       "         70.86720157, -116.77742733,   20.67105197,    9.25786353,\n",
       "          4.71022891,  -55.75311123,  -25.11129753,    4.57199785,\n",
       "         55.97520425,  -50.02912368,   65.04809397,   50.19163932,\n",
       "         80.6298678 ,   12.83421222,   25.53719115,   32.79910139,\n",
       "         19.6510846 ,   88.71075858,  -54.2073128 ,   73.41444445,\n",
       "        -20.59360004,  -16.92514019,  -18.95758021,    4.01202181,\n",
       "         -2.59880126,    5.71326092,  -12.70446685,   25.40128566,\n",
       "         -6.33032225,  -24.08604859,  -41.64584578,   67.40879113,\n",
       "        -38.75431956,  -49.898446  ,   28.55860932,  -77.93943336,\n",
       "         22.91383865,  -27.1838445 ,   25.11330901,   -7.20065445,\n",
       "        -26.95304361,   50.1463925 ,  -60.64397204,   23.09731241,\n",
       "         28.3876799 ,   28.33514988,   30.65578153,    4.7120091 ,\n",
       "        -86.31634808,    8.51948451,  -69.14462383,  -31.87884565,\n",
       "        -10.77049787,   29.20602906,   31.97459717,   -1.84066955,\n",
       "         36.79409202,   83.78100633,   55.89589215,  -67.32813225,\n",
       "         40.99336718,   48.55699442,  -64.17145842,  -16.47172065,\n",
       "         79.22930053,   27.58952519,   26.16508213,  -28.11287101,\n",
       "         54.82813116,   46.25768877,   64.61810479,   16.05324968,\n",
       "        -32.17077106,    8.30775889,   35.7425753 ,  -21.86396348,\n",
       "        -67.99346026,   19.95191387,    9.1207061 ,  118.20502615,\n",
       "        -39.17525161,   46.20938313,   79.94127867,   39.81098692,\n",
       "        -16.01110722,  -79.89419367,   42.53255323,   -6.31364598,\n",
       "         70.12669331,   -7.53884597, -118.43003718,  -16.85376416,\n",
       "         31.79348936,   -3.1377227 ,  -17.87816624,   -6.72891491,\n",
       "         35.77517001,  -31.35183742,   51.0508826 ,   24.18967049,\n",
       "         28.02705731,   -3.89542323,   -8.38348595,   41.65812834,\n",
       "         -9.35808091,   -4.11160067,  -14.8899098 ,   13.70531747,\n",
       "        -62.04199801,  -53.12777583,   11.02959099,   24.83212938,\n",
       "         71.41433527,   18.68152342,   67.53368896,    6.75728213,\n",
       "        -14.762141  ,  102.05837165,    7.43601175,  -30.74749192,\n",
       "         28.93358976,   25.60221223,  -60.06573868,  -62.21120749,\n",
       "        -84.11356924,  100.99094696,  -11.98164326,  -31.88730859,\n",
       "        -42.70244121,    5.91422248,  -27.28697233,  125.5292542 ,\n",
       "         48.01833897,  -13.32751878,   26.2680443 ,  -34.70616429,\n",
       "       -113.19294663,   47.44285137,  -90.90290566,   56.99461876,\n",
       "       -111.84723071,  -13.41582222,  -54.43833357,    8.49760493,\n",
       "         64.0708874 ,  -41.62484991,  -91.2908979 ,   35.39743701,\n",
       "         -7.16506513,    2.39019489,   12.5343263 , -103.11508664,\n",
       "         53.87429423,   59.65241317,   29.86304754,   -3.93453618,\n",
       "        -17.10693262,    1.67914803,   53.41827364,  -11.44421191,\n",
       "         98.64058938,    3.53457129,   98.70070354,   98.99328307,\n",
       "         15.83111923, -127.86491084,  -26.26364145,  -55.71295246,\n",
       "         78.14705609,  -27.19050252,  -76.49039322,   88.08078654,\n",
       "         23.9388983 ,    3.66670631,   74.97197383,   15.7385954 ,\n",
       "         43.54985194,   75.24211268,  105.37227443,  -83.63516642,\n",
       "        -42.61045887,   16.21760673,   92.63349234,    0.50223061,\n",
       "        -50.10110538,  -25.95993809,  -24.83486179,    2.33636957,\n",
       "         52.15502015,   -6.80395372,   25.74906125,  -22.96219087,\n",
       "         17.17271094,   67.96098508,   26.52860677,  -15.89715975,\n",
       "        -54.61931358,   -4.12195345,   59.24140899,  132.48768067,\n",
       "        -43.82300273,   31.3521551 ,   33.55943998,  -84.42261012,\n",
       "        -22.22035902,  -19.62854331,   -9.74403498,  -50.52517678,\n",
       "         19.10731236,  -56.454302  ,    7.67206115,   39.37946935,\n",
       "         26.02527573,   75.98574886,   -3.19286706,  -41.03374984,\n",
       "         92.35173041,  -55.49777384,   56.65575377,  129.78290862,\n",
       "        -10.03291223,   87.14318588,  -45.79974655, -107.83194281,\n",
       "         21.90957515,  -63.59704578,   51.63749403,  -24.88611021])"
      ]
     },
     "execution_count": 104,
     "metadata": {},
     "output_type": "execute_result"
    }
   ],
   "source": [
    "respuesta2 = uniform_random_numb_gen2(10, 50, 1000)\n",
    "respuesta2"
   ]
  },
  {
   "cell_type": "code",
   "execution_count": 111,
   "metadata": {},
   "outputs": [
    {
     "data": {
      "image/png": "[encoded data removed]",
      "text/plain": [
       "<Figure size 640x480 with 1 Axes>"
      ]
     },
     "metadata": {},
     "output_type": "display_data"
    }
   ],
   "source": [
    "plt.hist(respuesta1, bins=75);\n",
    "plt.show()"
   ]
  },
  {
   "cell_type": "code",
   "execution_count": 112,
   "metadata": {},
   "outputs": [
    {
     "data": {
      "image/png": "[encoded data removed]",
      "text/plain": [
       "<Figure size 640x480 with 1 Axes>"
      ]
     },
     "metadata": {},
     "output_type": "display_data"
    }
   ],
   "source": [
    "plt.hist(respuesta2, bins=75);\n",
    "plt.xlim(-150, 150)\n",
    "plt.show()"
   ]
  },
  {
   "attachments": {},
   "cell_type": "markdown",
   "metadata": {},
   "source": [
    "## Normal Distribution of Real Data\n",
    "\n",
    "In this challenge we are going to take a look the real data. We will use vehicles.csv file for this exercise"
   ]
  },
  {
   "attachments": {},
   "cell_type": "markdown",
   "metadata": {},
   "source": [
    "First import vehicles.csv.\n",
    "Then plot the histograms for the following variables:\n",
    "\n",
    "1. Fuel Barrels/Year"
   ]
  },
  {
   "cell_type": "code",
   "execution_count": 113,
   "metadata": {},
   "outputs": [],
   "source": [
    "import pandas as pd\n",
    "df= pd.read_csv('vehicles.csv')"
   ]
  },
  {
   "cell_type": "code",
   "execution_count": 117,
   "metadata": {},
   "outputs": [
    {
     "data": {
      "text/plain": [
       "Index(['Make', 'Model', 'Year', 'Engine Displacement', 'Cylinders',\n",
       "       'Transmission', 'Drivetrain', 'Vehicle Class', 'Fuel Type',\n",
       "       'Fuel Barrels/Year', 'City MPG', 'Highway MPG', 'Combined MPG',\n",
       "       'CO2 Emission Grams/Mile', 'Fuel Cost/Year'],\n",
       "      dtype='object')"
      ]
     },
     "execution_count": 117,
     "metadata": {},
     "output_type": "execute_result"
    }
   ],
   "source": [
    "df.columns"
   ]
  },
  {
   "cell_type": "code",
   "execution_count": 120,
   "metadata": {},
   "outputs": [
    {
     "data": {
      "image/png": "[encoded data removed]",
      "text/plain": [
       "<Figure size 640x480 with 1 Axes>"
      ]
     },
     "metadata": {},
     "output_type": "display_data"
    }
   ],
   "source": [
    "plt.hist(df['Fuel Barrels/Year'], bins=50)\n",
    "plt.show()"
   ]
  },
  {
   "attachments": {},
   "cell_type": "markdown",
   "metadata": {},
   "source": [
    "2. CO2 Emission Grams/Mile "
   ]
  },
  {
   "cell_type": "code",
   "execution_count": 121,
   "metadata": {},
   "outputs": [
    {
     "data": {
      "image/png": "[encoded data removed]",
      "text/plain": [
       "<Figure size 640x480 with 1 Axes>"
      ]
     },
     "metadata": {},
     "output_type": "display_data"
    }
   ],
   "source": [
    "plt.hist(df['CO2 Emission Grams/Mile'], bins=50)\n",
    "plt.show()\n"
   ]
  },
  {
   "attachments": {},
   "cell_type": "markdown",
   "metadata": {},
   "source": [
    "3. Combined MPG"
   ]
  },
  {
   "cell_type": "code",
   "execution_count": 122,
   "metadata": {},
   "outputs": [
    {
     "data": {
      "image/png": "[encoded data removed]",
      "text/plain": [
       "<Figure size 640x480 with 1 Axes>"
      ]
     },
     "metadata": {},
     "output_type": "display_data"
    }
   ],
   "source": [
    "plt.hist(df['Combined MPG'], bins=50)\n",
    "plt.show()"
   ]
  },
  {
   "attachments": {},
   "cell_type": "markdown",
   "metadata": {},
   "source": [
    "Which one(s) of the variables are nearly normally distributed? How do you know?"
   ]
  },
  {
   "cell_type": "code",
   "execution_count": null,
   "metadata": {},
   "outputs": [],
   "source": [
    "# LAs dos primeras son distribuciones normales. Son simetricas y la ultima no"
   ]
  },
  {
   "attachments": {},
   "cell_type": "markdown",
   "metadata": {},
   "source": [
    "## Exponential Distribution"
   ]
  },
  {
   "attachments": {},
   "cell_type": "markdown",
   "metadata": {},
   "source": [
    "1. Using `numpy.random.exponential`, create a function that returns a list of numbers exponentially distributed with the mean of 10. \n",
    "\n",
    "1. Use the function to generate two number sequences with the size of 10 and 100.\n",
    "\n",
    "1. Plot the distributions as histograms with the nubmer of bins as 100.\n",
    "\n",
    "Your output should look like below:\n",
    "\n",
    "![exponential distribution](ed.png)"
   ]
  },
  {
   "cell_type": "code",
   "execution_count": 126,
   "metadata": {},
   "outputs": [],
   "source": [
    "import numpy as np\n",
    "import matplotlib.pyplot as plt\n",
    "\n",
    "def generador_num_exp(mean, size):\n",
    "    return np.random.exponential(scale=mean, size=size)"
   ]
  },
  {
   "cell_type": "code",
   "execution_count": 127,
   "metadata": {},
   "outputs": [],
   "source": [
    "solucion1 = generador_num_exp(10, 10)\n",
    "solucion2 = generador_num_exp(10, 100)"
   ]
  },
  {
   "cell_type": "code",
   "execution_count": 137,
   "metadata": {},
   "outputs": [
    {
     "data": {
      "image/png": "[encoded data removed]",
      "text/plain": [
       "<Figure size 640x480 with 1 Axes>"
      ]
     },
     "metadata": {},
     "output_type": "display_data"
    }
   ],
   "source": [
    "sns.histplot(solucion1);"
   ]
  },
  {
   "cell_type": "code",
   "execution_count": 136,
   "metadata": {},
   "outputs": [
    {
     "data": {
      "image/png": "[encoded data removed]",
      "text/plain": [
       "<Figure size 640x480 with 1 Axes>"
      ]
     },
     "metadata": {},
     "output_type": "display_data"
    }
   ],
   "source": [
    "sns.histplot(solucion2);"
   ]
  },
  {
   "attachments": {},
   "cell_type": "markdown",
   "metadata": {},
   "source": [
    "How are the two distributions different?"
   ]
  },
  {
   "cell_type": "code",
   "execution_count": null,
   "metadata": {},
   "outputs": [],
   "source": [
    "# A medida que aumenta el tamaño de la muestra, el grafico tiende a tener menos espacios y tiene una forma mas visual."
   ]
  },
  {
   "attachments": {},
   "cell_type": "markdown",
   "metadata": {},
   "source": [
    "## Exponential Distribution of Real Data\n",
    "\n",
    "Suppose that the amount of time one spends in a bank is exponentially distributed with mean as 10 minutes (i.e. λ = 1/10). What is the probability that a customer will spend less than fifteen minutes in the bank? \n",
    "\n",
    "Write a code in python to solve this problem"
   ]
  },
  {
   "cell_type": "code",
   "execution_count": 139,
   "metadata": {},
   "outputs": [
    {
     "data": {
      "text/plain": [
       "0.7768698398515702"
      ]
     },
     "execution_count": 139,
     "metadata": {},
     "output_type": "execute_result"
    }
   ],
   "source": [
    "import scipy.stats as stats\n",
    "\n",
    "media = 10 # mean as 10 minutes\n",
    "lambda_ = 1 / media  # i.e. λ = 1/10\n",
    "\n",
    "probab = stats.expon.cdf(15, scale=1/lambda_)\n",
    "probab"
   ]
  },
  {
   "attachments": {},
   "cell_type": "markdown",
   "metadata": {},
   "source": [
    "What is the probability that the customer will spend more than 15 minutes"
   ]
  },
  {
   "cell_type": "code",
   "execution_count": 143,
   "metadata": {},
   "outputs": [
    {
     "data": {
      "text/plain": [
       "0.2231301601484298"
      ]
     },
     "execution_count": 143,
     "metadata": {},
     "output_type": "execute_result"
    }
   ],
   "source": [
    "probab2 = 1 -probab\n",
    "probab2"
   ]
  }
 ],
 "metadata": {
  "kernelspec": {
   "display_name": "Python 3",
   "language": "python",
   "name": "python3"
  },
  "language_info": {
   "codemirror_mode": {
    "name": "ipython",
    "version": 3
   },
   "file_extension": ".py",
   "mimetype": "text/x-python",
   "name": "python",
   "nbconvert_exporter": "python",
   "pygments_lexer": "ipython3",
   "version": "3.9.13"
  },
  "toc": {
   "base_numbering": 1,
   "nav_menu": {},
   "number_sections": true,
   "sideBar": true,
   "skip_h1_title": false,
   "title_cell": "Table of Contents",
   "title_sidebar": "Contents",
   "toc_cell": true,
   "toc_position": {},
   "toc_section_display": true,
   "toc_window_display": false
  },
  "varInspector": {
   "cols": {
    "lenName": 16,
    "lenType": 16,
    "lenVar": 40
   },
   "kernels_config": {
    "python": {
     "delete_cmd_postfix": "",
     "delete_cmd_prefix": "del ",
     "library": "var_list.py",
     "varRefreshCmd": "print(var_dic_list())"
    },
    "r": {
     "delete_cmd_postfix": ") ",
     "delete_cmd_prefix": "rm(",
     "library": "var_list.r",
     "varRefreshCmd": "cat(var_dic_list()) "
    }
   },
   "types_to_exclude": [
    "module",
    "function",
    "builtin_function_or_method",
    "instance",
    "_Feature"
   ],
   "window_display": false
  }
 },
 "nbformat": 4,
 "nbformat_minor": 2
}
